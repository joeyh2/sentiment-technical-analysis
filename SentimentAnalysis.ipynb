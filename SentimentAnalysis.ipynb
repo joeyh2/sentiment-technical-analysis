{
 "cells": [
  {
   "cell_type": "code",
   "execution_count": 1,
   "id": "250520a1-8286-4eb9-a6f2-e7c0463051fb",
   "metadata": {},
   "outputs": [
    {
     "data": {
      "text/plain": [
       "True"
      ]
     },
     "execution_count": 1,
     "metadata": {},
     "output_type": "execute_result"
    }
   ],
   "source": [
    "# Initial Imports\n",
    "import os\n",
    "from pathlib import Path\n",
    "import pandas as pd\n",
    "from newsapi import NewsApiClient\n",
    "import nltk\n",
    "from nltk.sentiment.vader import SentimentIntensityAnalyzer\n",
    "from dotenv import load_dotenv\n",
    "load_dotenv()"
   ]
  },
  {
   "cell_type": "code",
   "execution_count": 2,
   "id": "004381cf-0dc1-4b87-a519-29b0eb018b44",
   "metadata": {},
   "outputs": [],
   "source": [
    "# Reading the News API key enviroment variable\n",
    "api_key = os.getenv(\"news_api\")"
   ]
  },
  {
   "cell_type": "code",
   "execution_count": 3,
   "id": "d0eee155-2c62-4cb6-a695-add8c24576ed",
   "metadata": {},
   "outputs": [],
   "source": [
    "# Create a newsapi client\n",
    "newsapi = NewsApiClient(api_key=api_key)"
   ]
  },
  {
   "cell_type": "code",
   "execution_count": 4,
   "id": "251ad1ed-5267-43cd-90a9-db6740de45fd",
   "metadata": {},
   "outputs": [
    {
     "name": "stdin",
     "output_type": "stream",
     "text": [
      "Input ticker(s) here MSFT\n"
     ]
    }
   ],
   "source": [
    "# Fetch all the news about Facebook Libra\n",
    "# Multiple tickers passed as \"ticker1 AND ticker2\"\n",
    "ticker = input(\"Input ticker(s) here\")\n",
    "ticker_headlines = newsapi.get_everything(\n",
    "    q=ticker,\n",
    "    language=\"en\",\n",
    "    page_size=100,\n",
    "    sort_by=\"relevancy\"\n",
    ")"
   ]
  },
  {
   "cell_type": "code",
   "execution_count": 5,
   "id": "c2f46042-75ab-4ae0-9834-463a36aac90f",
   "metadata": {},
   "outputs": [
    {
     "name": "stdout",
     "output_type": "stream",
     "text": [
      "Total articles about this ticker: 503\n"
     ]
    }
   ],
   "source": [
    "# Print total articles\n",
    "print(f\"Total articles about this ticker: {ticker_headlines['totalResults']}\")"
   ]
  },
  {
   "cell_type": "code",
   "execution_count": 6,
   "id": "c07e37b6-84b7-45fa-8920-13584ac39c80",
   "metadata": {},
   "outputs": [
    {
     "data": {
      "text/plain": [
       "{'source': {'id': None, 'name': 'StockNews.com'},\n",
       " 'author': 'Jaimini Desai',\n",
       " 'title': '3 Dividend Growth Stocks to Buy During This Market Correction',\n",
       " 'description': 'One characteristic of a high-quality stock is a consistent track record of hiking dividends. This indicates a strong business that can thrive in all types of economic conditions, and a...',\n",
       " 'url': 'https://stocknews.com/news/msft-cost-abbv-3-dividend-growth-stocks-to-buy-during-this-market-correction/',\n",
       " 'urlToImage': 'https://assets.entrepreneur.com/providers/stocknews/hero-image-stocknews-422729.jpeg',\n",
       " 'publishedAt': '2022-03-21T13:14:05Z',\n",
       " 'content': 'One characteristic of a high-quality stock is a consistent track record of hiking dividends. This indicates a strong business that can thrive in all types of economic conditions, and a management tea… [+7647 chars]'}"
      ]
     },
     "execution_count": 6,
     "metadata": {},
     "output_type": "execute_result"
    }
   ],
   "source": [
    "# Show sample article\n",
    "ticker_headlines[\"articles\"][0]"
   ]
  },
  {
   "cell_type": "code",
   "execution_count": 7,
   "id": "5d61131d-ec11-4234-854e-a797c8da7d33",
   "metadata": {},
   "outputs": [
    {
     "name": "stderr",
     "output_type": "stream",
     "text": [
      "[nltk_data] Downloading package vader_lexicon to\n",
      "[nltk_data]     /Users/joseph/nltk_data...\n",
      "[nltk_data]   Package vader_lexicon is already up-to-date!\n"
     ]
    }
   ],
   "source": [
    "# Download/Update the VADER Lexicon\n",
    "nltk.download('vader_lexicon')\n",
    "\n",
    "# Initialize the VADER sentiment analyzer\n",
    "analyzer = SentimentIntensityAnalyzer()"
   ]
  },
  {
   "cell_type": "code",
   "execution_count": 8,
   "id": "c9be41b7-99c1-4493-b2aa-586084dc5093",
   "metadata": {},
   "outputs": [],
   "source": [
    "# Create the ticker sentiment scores DataFrame\n",
    "ticker_sentiments = []\n",
    "\n",
    "for article in ticker_headlines[\"articles\"]:\n",
    "    try:\n",
    "        text = article[\"content\"]\n",
    "        date = article[\"publishedAt\"][:10]\n",
    "        sentiment = analyzer.polarity_scores(text)\n",
    "        compound = sentiment[\"compound\"]\n",
    "        pos = sentiment[\"pos\"]\n",
    "        neu = sentiment[\"neu\"]\n",
    "        neg = sentiment[\"neg\"]\n",
    "        \n",
    "        ticker_sentiments.append({\n",
    "            \"text\": text,\n",
    "            \"date\": date,\n",
    "            \"compound\": compound,\n",
    "            \"positive\": pos,\n",
    "            \"negative\": neg,\n",
    "            \"neutral\": neu\n",
    "            \n",
    "        })\n",
    "        \n",
    "    except AttributeError:\n",
    "        pass"
   ]
  },
  {
   "cell_type": "code",
   "execution_count": 9,
   "id": "a864c371-26e8-401c-a833-8ad72fe8af9f",
   "metadata": {},
   "outputs": [],
   "source": [
    "# Create DataFrame\n",
    "ticker_df = pd.DataFrame(ticker_sentiments)"
   ]
  },
  {
   "cell_type": "code",
   "execution_count": 10,
   "id": "645ad72b-4c65-467b-8fdd-35f21b72df48",
   "metadata": {},
   "outputs": [],
   "source": [
    "# Reorder DataFrame columns\n",
    "cols = [\"date\", \"text\", \"compound\", \"positive\", \"negative\", \"neutral\"]\n",
    "ticker_df = ticker_df[cols]"
   ]
  },
  {
   "cell_type": "code",
   "execution_count": 13,
   "id": "bdb74036-1817-4928-be9a-4b5bf3a148d3",
   "metadata": {},
   "outputs": [],
   "source": [
    "ticker_df.sort_values('date', inplace = True)"
   ]
  },
  {
   "cell_type": "code",
   "execution_count": 14,
   "id": "37ffcf77-6d95-46a6-8844-70b53ff3b079",
   "metadata": {},
   "outputs": [
    {
     "data": {
      "text/html": [
       "<div>\n",
       "<style scoped>\n",
       "    .dataframe tbody tr th:only-of-type {\n",
       "        vertical-align: middle;\n",
       "    }\n",
       "\n",
       "    .dataframe tbody tr th {\n",
       "        vertical-align: top;\n",
       "    }\n",
       "\n",
       "    .dataframe thead th {\n",
       "        text-align: right;\n",
       "    }\n",
       "</style>\n",
       "<table border=\"1\" class=\"dataframe\">\n",
       "  <thead>\n",
       "    <tr style=\"text-align: right;\">\n",
       "      <th></th>\n",
       "      <th>date</th>\n",
       "      <th>text</th>\n",
       "      <th>compound</th>\n",
       "      <th>positive</th>\n",
       "      <th>negative</th>\n",
       "      <th>neutral</th>\n",
       "    </tr>\n",
       "  </thead>\n",
       "  <tbody>\n",
       "    <tr>\n",
       "      <th>59</th>\n",
       "      <td>2022-02-28</td>\n",
       "      <td>Microsoft(NASDAQ:MSFT) has turned out to be a ...</td>\n",
       "      <td>0.8910</td>\n",
       "      <td>0.318</td>\n",
       "      <td>0.000</td>\n",
       "      <td>0.682</td>\n",
       "    </tr>\n",
       "    <tr>\n",
       "      <th>63</th>\n",
       "      <td>2022-02-28</td>\n",
       "      <td>In this clip from \"The Future of Fintech\" on M...</td>\n",
       "      <td>-0.7003</td>\n",
       "      <td>0.000</td>\n",
       "      <td>0.146</td>\n",
       "      <td>0.854</td>\n",
       "    </tr>\n",
       "    <tr>\n",
       "      <th>71</th>\n",
       "      <td>2022-03-01</td>\n",
       "      <td>LONDON--(BUSINESS WIRE)--The Future Markets Re...</td>\n",
       "      <td>0.5994</td>\n",
       "      <td>0.149</td>\n",
       "      <td>0.000</td>\n",
       "      <td>0.851</td>\n",
       "    </tr>\n",
       "    <tr>\n",
       "      <th>24</th>\n",
       "      <td>2022-03-01</td>\n",
       "      <td>Apple (AAPL) said Tuesday that it has stopped ...</td>\n",
       "      <td>-0.2263</td>\n",
       "      <td>0.000</td>\n",
       "      <td>0.053</td>\n",
       "      <td>0.947</td>\n",
       "    </tr>\n",
       "    <tr>\n",
       "      <th>17</th>\n",
       "      <td>2022-03-01</td>\n",
       "      <td>As Zoom Video Inc.s skyrocketing growth rate s...</td>\n",
       "      <td>0.3818</td>\n",
       "      <td>0.075</td>\n",
       "      <td>0.000</td>\n",
       "      <td>0.925</td>\n",
       "    </tr>\n",
       "  </tbody>\n",
       "</table>\n",
       "</div>"
      ],
      "text/plain": [
       "          date                                               text  compound  \\\n",
       "59  2022-02-28  Microsoft(NASDAQ:MSFT) has turned out to be a ...    0.8910   \n",
       "63  2022-02-28  In this clip from \"The Future of Fintech\" on M...   -0.7003   \n",
       "71  2022-03-01  LONDON--(BUSINESS WIRE)--The Future Markets Re...    0.5994   \n",
       "24  2022-03-01  Apple (AAPL) said Tuesday that it has stopped ...   -0.2263   \n",
       "17  2022-03-01  As Zoom Video Inc.s skyrocketing growth rate s...    0.3818   \n",
       "\n",
       "    positive  negative  neutral  \n",
       "59     0.318     0.000    0.682  \n",
       "63     0.000     0.146    0.854  \n",
       "71     0.149     0.000    0.851  \n",
       "24     0.000     0.053    0.947  \n",
       "17     0.075     0.000    0.925  "
      ]
     },
     "execution_count": 14,
     "metadata": {},
     "output_type": "execute_result"
    }
   ],
   "source": [
    "ticker_df.head()"
   ]
  },
  {
   "cell_type": "code",
   "execution_count": 30,
   "id": "c80e9a61-3b17-43ef-a25b-48a157e08be7",
   "metadata": {},
   "outputs": [
    {
     "data": {
      "text/plain": [
       "2022-03-09    8\n",
       "2022-03-08    8\n",
       "2022-03-03    7\n",
       "2022-03-18    6\n",
       "2022-03-04    6\n",
       "2022-03-23    6\n",
       "2022-03-10    5\n",
       "2022-03-26    5\n",
       "2022-03-21    5\n",
       "2022-03-02    4\n",
       "2022-03-07    4\n",
       "2022-03-28    3\n",
       "2022-03-17    3\n",
       "2022-03-22    3\n",
       "2022-03-13    3\n",
       "2022-03-24    3\n",
       "2022-03-14    3\n",
       "2022-03-15    3\n",
       "2022-03-01    3\n",
       "2022-03-05    2\n",
       "2022-03-06    2\n",
       "2022-03-12    2\n",
       "2022-03-20    2\n",
       "2022-02-28    2\n",
       "2022-03-19    1\n",
       "2022-03-11    1\n",
       "Name: date, dtype: int64"
      ]
     },
     "execution_count": 30,
     "metadata": {},
     "output_type": "execute_result"
    }
   ],
   "source": [
    "ticker_df.date.value_counts()"
   ]
  },
  {
   "cell_type": "code",
   "execution_count": null,
   "id": "a656e8f2-5cbc-4342-82dd-5dfc662c69ed",
   "metadata": {},
   "outputs": [],
   "source": [
    "def daily_agg(df):\n",
    "    for date in row:\n",
    "        filtered_df = df.loc[(df['date'] >= '2020-09-01')\n",
    "                     & (df['date'] < '2020-09-15')]"
   ]
  }
 ],
 "metadata": {
  "kernelspec": {
   "display_name": "Python 3",
   "language": "python",
   "name": "python3"
  },
  "language_info": {
   "codemirror_mode": {
    "name": "ipython",
    "version": 3
   },
   "file_extension": ".py",
   "mimetype": "text/x-python",
   "name": "python",
   "nbconvert_exporter": "python",
   "pygments_lexer": "ipython3",
   "version": "3.7.10"
  }
 },
 "nbformat": 4,
 "nbformat_minor": 5
}
